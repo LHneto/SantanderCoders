{
 "cells": [
  {
   "cell_type": "code",
   "execution_count": 1,
   "id": "d9780232-b0bf-4e5b-809a-c7705e2cfa5e",
   "metadata": {},
   "outputs": [],
   "source": [
    "import numpy as np"
   ]
  },
  {
   "cell_type": "code",
   "execution_count": 5,
   "id": "8b267af5-6aa3-43bb-8d40-f75176b83940",
   "metadata": {},
   "outputs": [
    {
     "name": "stdout",
     "output_type": "stream",
     "text": [
      "[1, 2, 3, 4, 5, 6, 7, 8]\n",
      "[1 2 3 4 5 6 7 8]\n"
     ]
    }
   ],
   "source": [
    "import numpy as np\n",
    "\n",
    "lista = [1, 2, 3, 4, 5, 6, 7, 8]\n",
    "array = np.array(lista)\n",
    "\n",
    "print(lista)\n",
    "print(array)"
   ]
  },
  {
   "cell_type": "code",
   "execution_count": 7,
   "id": "afbd5e8b-c527-4a8f-999d-947492979e65",
   "metadata": {},
   "outputs": [
    {
     "ename": "NameError",
     "evalue": "name 'matriz_zero' is not defined",
     "output_type": "error",
     "traceback": [
      "\u001b[1;31m---------------------------------------------------------------------------\u001b[0m",
      "\u001b[1;31mNameError\u001b[0m                                 Traceback (most recent call last)",
      "Cell \u001b[1;32mIn[7], line 2\u001b[0m\n\u001b[0;32m      1\u001b[0m arr_zeros \u001b[38;5;241m=\u001b[39m np\u001b[38;5;241m.\u001b[39mzeros((\u001b[38;5;241m5\u001b[39m,\u001b[38;5;241m3\u001b[39m))\n\u001b[1;32m----> 2\u001b[0m \u001b[38;5;28mprint\u001b[39m(\u001b[43mmatriz_zero\u001b[49m)\n",
      "\u001b[1;31mNameError\u001b[0m: name 'matriz_zero' is not defined"
     ]
    }
   ],
   "source": [
    "arr_zeros = np.zeros((5,3))\n",
    "print(matriz_zero)"
   ]
  },
  {
   "cell_type": "code",
   "execution_count": null,
   "id": "74b1da90-8ae4-4468-b42a-b280a1e941ac",
   "metadata": {},
   "outputs": [],
   "source": []
  },
  {
   "cell_type": "code",
   "execution_count": 8,
   "id": "61168cca-4f18-438c-a99c-0c9c79a3cc9b",
   "metadata": {},
   "outputs": [
    {
     "name": "stdout",
     "output_type": "stream",
     "text": [
      "[[0. 0. 0.]\n",
      " [0. 0. 0.]\n",
      " [0. 0. 0.]\n",
      " [0. 0. 0.]\n",
      " [0. 0. 0.]]\n"
     ]
    }
   ],
   "source": [
    "arr_zeros = np.zeros((5,3))\n",
    "print(arr_zeros)"
   ]
  },
  {
   "cell_type": "code",
   "execution_count": 9,
   "id": "76f08d01-6138-48d3-bae7-3904bb459c72",
   "metadata": {},
   "outputs": [
    {
     "data": {
      "text/plain": [
       "1"
      ]
     },
     "execution_count": 9,
     "metadata": {},
     "output_type": "execute_result"
    }
   ],
   "source": [
    "array[0] "
   ]
  },
  {
   "cell_type": "code",
   "execution_count": 10,
   "id": "dd6177a5-0746-48dd-89fa-53e7947b2da3",
   "metadata": {},
   "outputs": [
    {
     "name": "stdout",
     "output_type": "stream",
     "text": [
      "9\n"
     ]
    }
   ],
   "source": [
    "array[0]= 9\n",
    "print(array[0])"
   ]
  },
  {
   "cell_type": "code",
   "execution_count": 11,
   "id": "034be0c0-9193-4833-97f7-dba0ea5c34a0",
   "metadata": {},
   "outputs": [
    {
     "ename": "AttributeError",
     "evalue": "module 'numpy' has no attribute 'zero'",
     "output_type": "error",
     "traceback": [
      "\u001b[1;31m---------------------------------------------------------------------------\u001b[0m",
      "\u001b[1;31mAttributeError\u001b[0m                            Traceback (most recent call last)",
      "Cell \u001b[1;32mIn[11], line 1\u001b[0m\n\u001b[1;32m----> 1\u001b[0m matriz_zeros\u001b[38;5;241m=\u001b[39m \u001b[43mnp\u001b[49m\u001b[38;5;241;43m.\u001b[39;49m\u001b[43mzero\u001b[49m((\u001b[38;5;241m5\u001b[39m,\u001b[38;5;241m3\u001b[39m))\n\u001b[0;32m      2\u001b[0m \u001b[38;5;28mprint\u001b[39m (matriz_zeros)\n",
      "File \u001b[1;32m~\\AppData\\Local\\Programs\\Python\\Python312\\Lib\\site-packages\\numpy\\__init__.py:347\u001b[0m, in \u001b[0;36m__getattr__\u001b[1;34m(attr)\u001b[0m\n\u001b[0;32m    344\u001b[0m     \u001b[38;5;124m\"\u001b[39m\u001b[38;5;124mRemoved in NumPy 1.25.0\u001b[39m\u001b[38;5;124m\"\u001b[39m\n\u001b[0;32m    345\u001b[0m     \u001b[38;5;28;01mraise\u001b[39;00m \u001b[38;5;167;01mRuntimeError\u001b[39;00m(\u001b[38;5;124m\"\u001b[39m\u001b[38;5;124mTester was removed in NumPy 1.25.\u001b[39m\u001b[38;5;124m\"\u001b[39m)\n\u001b[1;32m--> 347\u001b[0m \u001b[38;5;28;01mraise\u001b[39;00m \u001b[38;5;167;01mAttributeError\u001b[39;00m(\u001b[38;5;124m\"\u001b[39m\u001b[38;5;124mmodule \u001b[39m\u001b[38;5;132;01m{!r}\u001b[39;00m\u001b[38;5;124m has no attribute \u001b[39m\u001b[38;5;124m\"\u001b[39m\n\u001b[0;32m    348\u001b[0m                      \u001b[38;5;124m\"\u001b[39m\u001b[38;5;132;01m{!r}\u001b[39;00m\u001b[38;5;124m\"\u001b[39m\u001b[38;5;241m.\u001b[39mformat(\u001b[38;5;18m__name__\u001b[39m, attr))\n",
      "\u001b[1;31mAttributeError\u001b[0m: module 'numpy' has no attribute 'zero'"
     ]
    }
   ],
   "source": [
    "matriz_zeros= np.zero((5,3))\n",
    "print (matriz_zeros)"
   ]
  },
  {
   "cell_type": "code",
   "execution_count": 12,
   "id": "ff9a118a-8bf5-49a6-aa69-b8e9f17de7fb",
   "metadata": {},
   "outputs": [
    {
     "name": "stdout",
     "output_type": "stream",
     "text": [
      "[[0. 0. 0.]\n",
      " [0. 0. 0.]\n",
      " [0. 0. 0.]\n",
      " [0. 0. 0.]\n",
      " [0. 0. 0.]]\n"
     ]
    }
   ],
   "source": [
    "matriz_zeros= np.zeros((5,3))\n",
    "print (matriz_zeros)"
   ]
  },
  {
   "cell_type": "code",
   "execution_count": 13,
   "id": "6ba4f25a-1453-4e87-b8cd-140a297a4658",
   "metadata": {},
   "outputs": [
    {
     "name": "stdout",
     "output_type": "stream",
     "text": [
      "Máximo 9.8\n",
      "Mínimo 4.5\n",
      "Desvio Padrão 2.001999000998752\n",
      "Média 7.8\n"
     ]
    },
    {
     "ename": "NameError",
     "evalue": "name 'nota' is not defined",
     "output_type": "error",
     "traceback": [
      "\u001b[1;31m---------------------------------------------------------------------------\u001b[0m",
      "\u001b[1;31mNameError\u001b[0m                                 Traceback (most recent call last)",
      "Cell \u001b[1;32mIn[13], line 7\u001b[0m\n\u001b[0;32m      5\u001b[0m \u001b[38;5;28mprint\u001b[39m(\u001b[38;5;124m\"\u001b[39m\u001b[38;5;124mDesvio Padrão\u001b[39m\u001b[38;5;124m\"\u001b[39m, notas\u001b[38;5;241m.\u001b[39mstd())\n\u001b[0;32m      6\u001b[0m \u001b[38;5;28mprint\u001b[39m(\u001b[38;5;124m\"\u001b[39m\u001b[38;5;124mMédia\u001b[39m\u001b[38;5;124m\"\u001b[39m, notas\u001b[38;5;241m.\u001b[39mmean())\n\u001b[1;32m----> 7\u001b[0m \u001b[38;5;28mprint\u001b[39m(\u001b[38;5;124m\"\u001b[39m\u001b[38;5;124mPosição Menor\u001b[39m\u001b[38;5;124m\"\u001b[39m, \u001b[43mnota\u001b[49m\u001b[38;5;241m.\u001b[39margin())\n",
      "\u001b[1;31mNameError\u001b[0m: name 'nota' is not defined"
     ]
    }
   ],
   "source": [
    "lista_de_notas = [9.8,6.5,4.5,8.9,9.3]\n",
    "notas= np.array(lista_de_notas)\n",
    "print(\"Máximo\", notas.max())\n",
    "print(\"Mínimo\", notas.min())\n",
    "print(\"Desvio Padrão\", notas.std())\n",
    "print(\"Média\", notas.mean())\n",
    "print(\"Posição Menor\", nota.argin())"
   ]
  },
  {
   "cell_type": "code",
   "execution_count": 14,
   "id": "47d7986c-0890-4b4f-8319-83c64786785d",
   "metadata": {},
   "outputs": [
    {
     "name": "stdout",
     "output_type": "stream",
     "text": [
      "Máximo 9.8\n",
      "Mínimo 4.5\n",
      "Desvio Padrão 2.001999000998752\n",
      "Média 7.8\n"
     ]
    },
    {
     "ename": "AttributeError",
     "evalue": "'numpy.ndarray' object has no attribute 'argin'",
     "output_type": "error",
     "traceback": [
      "\u001b[1;31m---------------------------------------------------------------------------\u001b[0m",
      "\u001b[1;31mAttributeError\u001b[0m                            Traceback (most recent call last)",
      "Cell \u001b[1;32mIn[14], line 7\u001b[0m\n\u001b[0;32m      5\u001b[0m \u001b[38;5;28mprint\u001b[39m(\u001b[38;5;124m\"\u001b[39m\u001b[38;5;124mDesvio Padrão\u001b[39m\u001b[38;5;124m\"\u001b[39m, notas\u001b[38;5;241m.\u001b[39mstd())\n\u001b[0;32m      6\u001b[0m \u001b[38;5;28mprint\u001b[39m(\u001b[38;5;124m\"\u001b[39m\u001b[38;5;124mMédia\u001b[39m\u001b[38;5;124m\"\u001b[39m, notas\u001b[38;5;241m.\u001b[39mmean())\n\u001b[1;32m----> 7\u001b[0m \u001b[38;5;28mprint\u001b[39m(\u001b[38;5;124m\"\u001b[39m\u001b[38;5;124mPosição Menor\u001b[39m\u001b[38;5;124m\"\u001b[39m, \u001b[43mnotas\u001b[49m\u001b[38;5;241;43m.\u001b[39;49m\u001b[43margin\u001b[49m())\n",
      "\u001b[1;31mAttributeError\u001b[0m: 'numpy.ndarray' object has no attribute 'argin'"
     ]
    }
   ],
   "source": [
    "lista_de_notas = [9.8,6.5,4.5,8.9,9.3]\n",
    "notas= np.array(lista_de_notas)\n",
    "print(\"Máximo\", notas.max())\n",
    "print(\"Mínimo\", notas.min())\n",
    "print(\"Desvio Padrão\", notas.std())\n",
    "print(\"Média\", notas.mean())\n",
    "print(\"Posição Menor\", notas.argin())"
   ]
  },
  {
   "cell_type": "code",
   "execution_count": 15,
   "id": "b90f3dcf-a961-43b8-a9ba-2aa20d99b673",
   "metadata": {},
   "outputs": [
    {
     "name": "stdout",
     "output_type": "stream",
     "text": [
      "Máximo 9.8\n",
      "Mínimo 4.5\n",
      "Desvio Padrão 2.001999000998752\n",
      "Média 7.8\n",
      "Posição Menor 2\n"
     ]
    }
   ],
   "source": [
    "lista_de_notas = [9.8,6.5,4.5,8.9,9.3]\n",
    "notas= np.array(lista_de_notas)\n",
    "print(\"Máximo\", notas.max())\n",
    "print(\"Mínimo\", notas.min())\n",
    "print(\"Desvio Padrão\", notas.std())\n",
    "print(\"Média\", notas.mean())\n",
    "print(\"Posição Menor\", notas.argmin())"
   ]
  },
  {
   "cell_type": "code",
   "execution_count": null,
   "id": "b1f05bf1-70ba-4fac-96a0-cf7b7e58e674",
   "metadata": {},
   "outputs": [],
   "source": []
  }
 ],
 "metadata": {
  "kernelspec": {
   "display_name": "Python 3 (ipykernel)",
   "language": "python",
   "name": "python3"
  },
  "language_info": {
   "codemirror_mode": {
    "name": "ipython",
    "version": 3
   },
   "file_extension": ".py",
   "mimetype": "text/x-python",
   "name": "python",
   "nbconvert_exporter": "python",
   "pygments_lexer": "ipython3",
   "version": "3.12.4"
  }
 },
 "nbformat": 4,
 "nbformat_minor": 5
}
